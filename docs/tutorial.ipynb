{
 "cells": [
  {
   "cell_type": "markdown",
   "metadata": {},
   "source": [
    "# LangChain Anchor Browser Integration Tutorial\n",
    "\n",
    "This tutorial demonstrates how to integrate Anchor Browser tools with LangChain to create powerful web automation workflows.\n",
    "\n",
    "## What You'll Learn\n",
    "\n",
    "By the end of this tutorial, you'll be able to:\n",
    "- Extract content from web pages\n",
    "- Take screenshots programmatically\n",
    "- Perform AI-driven web tasks\n",
    "- Create intelligent agents that can interact with the web\n",
    "- Chain multiple tools together for complex workflows\n",
    "\n",
    "## Prerequisites\n",
    "\n",
    "- Python 3.8+\n",
    "- OpenAI API key\n",
    "- Anchor Browser API key\n",
    "- Basic knowledge of LangChain"
   ]
  },
  {
   "cell_type": "markdown",
   "metadata": {},
   "source": [
    "## 1. Basic Setup and Imports\n",
    "\n",
    "Let's import the necessary modules and setting up our environment.\n",
    "\n",
    "### Setup\n",
    "\n",
    "First, install the required packages:"
   ]
  },
  {
   "cell_type": "code",
   "execution_count": null,
   "metadata": {
    "scrolled": true
   },
   "outputs": [],
   "source": [
    "!pip install langchain anchorbrowser pydantic langchain-openai"
   ]
  },
  {
   "cell_type": "code",
   "execution_count": null,
   "metadata": {},
   "outputs": [],
   "source": [
    "import sys\n",
    "import os\n",
    "sys.path.append(os.path.abspath(os.path.join(os.getcwd(), \"..\")))"
   ]
  },
  {
   "cell_type": "code",
   "execution_count": null,
   "metadata": {},
   "outputs": [],
   "source": [
    "# Import Anchor Browser tools\n",
    "from langchain_anchorbrowser.AnchorWebTaskTool import AnchorWebTaskToolKit\n",
    "from langchain_anchorbrowser.AnchorScreenshotTool import AnchorScreenshotTool\n",
    "from langchain_anchorbrowser.AnchorContentTool import AnchorContentTool\n",
    "\n",
    "# Import LangChain components\n",
    "from langchain.agents import AgentExecutor, create_openai_functions_agent\n",
    "from langchain.prompts import ChatPromptTemplate, MessagesPlaceholder\n",
    "from langchain.chat_models import init_chat_model\n",
    "\n",
    "import getpass\n",
    "import os\n",
    "\n",
    "print(\"✅ All imports successful!\")"
   ]
  },
  {
   "cell_type": "markdown",
   "metadata": {},
   "source": [
    "## 2. API Key Configuration\n",
    "\n",
    "You'll need both OpenAI and Anchor Browser API keys. You can set them as environment variables or enter them interactively."
   ]
  },
  {
   "cell_type": "code",
   "execution_count": null,
   "metadata": {},
   "outputs": [],
   "source": [
    "# Configure API keys\n",
    "if not os.environ.get(\"OPENAI_API_KEY\"):\n",
    "    os.environ[\"OPENAI_API_KEY\"] = getpass.getpass(\"🔑 Enter your OpenAI API key: \")\n",
    "\n",
    "print(\"✅ API keys configured!\")\n",
    "print(f\"OpenAI API key: {'✅ Set' if os.environ.get('OPENAI_API_KEY') else '❌ Not set'}\")\n",
    "print(f\"Anchor Browser API key: {'✅ Set' if os.environ.get('ANCHORBROWSER_API_KEY') else '🔄 Will prompt when needed'}\")"
   ]
  },
  {
   "cell_type": "markdown",
   "metadata": {},
   "source": [
    "## 3. Initialize Language Model and Tools\n",
    "\n",
    "Now let's set up our language model and create all the available Anchor Browser tools."
   ]
  },
  {
   "cell_type": "code",
   "execution_count": null,
   "metadata": {},
   "outputs": [],
   "source": [
    "# Initialize the language model\n",
    "print(\"🤖 Initializing language model...\")\n",
    "llm = init_chat_model(\"gpt-4o-mini\", model_provider=\"openai\")\n",
    "print(\"✅ Language model ready!\")\n",
    "\n",
    "# Create all available tools\n",
    "print(\"\\n🔧 Creating Anchor Browser tools...\")\n",
    "anchor_browser_tools = [\n",
    "    AnchorScreenshotTool(), \n",
    "    AnchorContentTool()\n",
    "] + AnchorWebTaskToolKit().get_tools()\n",
    "\n",
    "print(f\"✅ Created {len(anchor_browser_tools)} tools:\")\n",
    "for i, tool in enumerate(anchor_browser_tools, 1):\n",
    "    print(f\"  {i}. {tool.name} - {tool.description[:50]}...\")"
   ]
  },
  {
   "cell_type": "markdown",
   "metadata": {},
   "source": [
    "## 4. Understanding the Tools\n",
    "\n",
    "Let's explore what each tool does and when to use them:\n",
    "\n",
    "### Tool Overview:\n",
    "1. **Screenshot Tool** - Captures visual snapshots of web pages\n",
    "2. **Content Tool** - Extracts text content from web pages\n",
    "3. **Web Task Tool** - AI-powered web interactions\n",
    "    Different pydantic schemas for different configuration:\n",
    "    - **Simple Web Task**\n",
    "    - **Standard Web Task**\n",
    "    - **Advanced Web Task**"
   ]
  },
  {
   "cell_type": "markdown",
   "metadata": {},
   "source": [
    "## 5. Direct Tool Usage Examples\n",
    "\n",
    "Let's start by using each tool directly. This is useful when you know exactly which tool you need for a specific task."
   ]
  },
  {
   "cell_type": "markdown",
   "metadata": {},
   "source": [
    "### 5.1 Taking Screenshots\n",
    "\n",
    "The screenshot tool allows you to capture visual snapshots of web pages with custom dimensions."
   ]
  },
  {
   "cell_type": "code",
   "execution_count": null,
   "metadata": {},
   "outputs": [],
   "source": [
    "# Example: Take a screenshot of a webpage\n",
    "print(\"📸 Taking a screenshot...\")\n",
    "screenshot_tool = AnchorScreenshotTool()\n",
    "\n",
    "screenshot_result = screenshot_tool.invoke({\n",
    "    \"url\": \"https://www.example.com\",\n",
    "    \"width\": 1280,\n",
    "    \"height\": 720\n",
    "})\n",
    "\n",
    "print(f\"✅ Screenshot captured!\")\n",
    "print(f\"📊 Result preview: {screenshot_result[:100]}...\")\n",
    "print(f\"💡 The result is base64 encoded image data that can be saved or displayed\")"
   ]
  },
  {
   "cell_type": "markdown",
   "metadata": {},
   "source": [
    "### 5.2 Extracting Content\n",
    "\n",
    "The content tool extracts text content from web pages in various formats (HTML, markdown, text)."
   ]
  },
  {
   "cell_type": "code",
   "execution_count": null,
   "metadata": {},
   "outputs": [],
   "source": [
    "# Example: Extract content from a webpage\n",
    "print(\"📄 Extracting webpage content...\")\n",
    "content_tool = AnchorContentTool()\n",
    "\n",
    "content_result = content_tool.invoke({\n",
    "    \"url\": \"https://www.example.com\",\n",
    "    \"format\": \"markdown\"\n",
    "})\n",
    "\n",
    "print(f\"✅ Content extracted!\")\n",
    "print(f\"📊 Content length: {len(content_result)} characters\")\n",
    "print(f\"📝 Content preview:\\n{content_result[:300]}...\")"
   ]
  },
  {
   "cell_type": "markdown",
   "metadata": {},
   "source": [
    "### 5.3 Performing AI Web Tasks\n",
    "\n",
    "The web task tools are the most powerful - they use AI to perform intelligent tasks on web pages."
   ]
  },
  {
   "cell_type": "code",
   "execution_count": null,
   "metadata": {},
   "outputs": [],
   "source": [
    "# Example: Perform an AI web task\n",
    "print(\"🤖 Performing AI web task...\")\n",
    "web_task_tool = anchor_browser_tools[2]  # Simple web task tool\n",
    "\n",
    "web_task_result = web_task_tool.invoke({\n",
    "    \"prompt\": \"What is the weather in Tokyo?\"\n",
    "})\n",
    "\n",
    "print(f\"✅ Web task completed!\")\n",
    "print(f\"🤖 AI Response: {web_task_result}\")"
   ]
  },
  {
   "cell_type": "markdown",
   "metadata": {},
   "source": [
    "## 6. Creating Intelligent Agents\n",
    "\n",
    "Now let's create a LangChain agent that can intelligently choose which tool to use based on your request. This is much more powerful than using tools individually!"
   ]
  },
  {
   "cell_type": "markdown",
   "metadata": {},
   "source": [
    "### 6.1 Setting Up the Agent\n",
    "\n",
    "We'll create an agent with a system prompt that explains all available tools."
   ]
  },
  {
   "cell_type": "code",
   "execution_count": null,
   "metadata": {},
   "outputs": [],
   "source": [
    "# Define the system prompt for our agent\n",
    "system_prompt = \"You are a helpful assistant that can interact with web pages using Anchor Browser.\\n\\nYou have access to these powerful tools:\\n\\n1. **Screenshot Tool** - Take visual snapshots of webpages\\n2. **Content Tool** - Extract text content from webpages\\n3. **Simple Web Task Tool** - Perform basic AI-powered web tasks\\n4. **Standard Web Task Tool** - Perform enhanced web tasks with more context\\n5. **Advanced Web Task Tool** - Perform comprehensive web analysis and automation\\n\\nChoose the most appropriate tool based on what the user wants to accomplish. For simple requests, use the basic tools. For complex analysis, use the advanced tools.\"\n",
    "\n",
    "# Create the prompt template\n",
    "prompt = ChatPromptTemplate.from_messages([\n",
    "    (\"system\", system_prompt),\n",
    "    (\"human\", \"{input}\"),\n",
    "    MessagesPlaceholder(variable_name=\"agent_scratchpad\"),\n",
    "])\n",
    "\n",
    "# Create the agent\n",
    "print(\"🤖 Creating intelligent agent...\")\n",
    "agent = create_openai_functions_agent(llm, anchor_browser_tools, prompt)\n",
    "agent_executor = AgentExecutor(agent=agent, tools=anchor_browser_tools, verbose=True)\n",
    "\n",
    "print(\"✅ Intelligent agent created successfully!\")"
   ]
  },
  {
   "cell_type": "markdown",
   "metadata": {},
   "source": [
    "### 6.2 Testing the Agent\n",
    "\n",
    "Let's test our agent with different types of requests to see how it intelligently chooses tools."
   ]
  },
  {
   "cell_type": "code",
   "execution_count": null,
   "metadata": {
    "scrolled": true
   },
   "outputs": [],
   "source": [
    "# Test different scenarios with our intelligent agent\n",
    "test_scenarios = [\n",
    "    \"Take a screenshot of example.com\",\n",
    "    \"Get the content of example.com in markdown format\",\n",
    "    \"Go to a random website and tell me what the page is about\",\n",
    "    \"Analyze the structure of example.com and extract key information\"\n",
    "]\n",
    "\n",
    "print(\"🧪 Testing intelligent agent with different scenarios...\")\n",
    "print(\"=\" * 60)\n",
    "\n",
    "for i, scenario in enumerate(test_scenarios, 1):\n",
    "    print(f\"\\n🔍 Test {i}: {scenario}\")\n",
    "    print(\"-\" * 40)\n",
    "    \n",
    "    try:\n",
    "        result = agent_executor.invoke({\"input\": scenario})\n",
    "        print(f\"✅ Result: {result['output']}\")\n",
    "    except Exception as e:\n",
    "        print(f\"❌ Error: {e}\")\n",
    "    \n",
    "    print(\"-\" * 40)"
   ]
  },
  {
   "cell_type": "markdown",
   "metadata": {},
   "source": [
    "## 7. Advanced: Tool Chaining\n",
    "\n",
    "For complex workflows, you can chain multiple tools together. This allows you to build sophisticated web automation pipelines."
   ]
  },
  {
   "cell_type": "code",
   "execution_count": null,
   "metadata": {},
   "outputs": [],
   "source": [
    "# Example: Complex workflow - Get content → Analyze → Generate summary\n",
    "print(\"🔗 Creating a complex workflow with tool chaining...\")\n",
    "print(\"=\" * 60)\n",
    "\n",
    "# Step 1: Extract content from a webpage\n",
    "print(\"\\n📄 Step 1: Extracting webpage content...\")\n",
    "content = content_tool.invoke({\n",
    "    \"url\": \"https://www.example.com\",\n",
    "    \"format\": \"markdown\"\n",
    "})\n",
    "print(f\"✅ Content extracted ({len(content)} characters)\")\n",
    "\n",
    "# Step 2: Take a screenshot for visual reference\n",
    "print(\"\\n📸 Step 2: Taking a screenshot...\")\n",
    "screenshot = screenshot_tool.invoke({\n",
    "    \"url\": \"https://www.example.com\",\n",
    "    \"width\": 1024,\n",
    "    \"height\": 768\n",
    "})\n",
    "print(f\"✅ Screenshot captured\")\n",
    "\n",
    "# Step 3: Use AI to analyze the content\n",
    "print(\"\\n🤖 Step 3: AI analysis of the content...\")\n",
    "analysis_result = web_task_tool.invoke({\n",
    "    \"prompt\": f\"Based on this webpage content: {content[:500]}..., provide a comprehensive analysis including:\\n1. Main topic and purpose\\n2. Key information presented\\n3. Overall structure and layout\\n4. Target audience\"\n",
    "})\n",
    "\n",
    "print(f\"✅ Analysis completed!\")\n",
    "print(f\"\\n📊 Analysis Result:\\n{analysis_result}\")\n",
    "\n",
    "print(\"\\n🎉 Complex workflow completed successfully!\")"
   ]
  },
  {
   "cell_type": "markdown",
   "metadata": {},
   "source": [
    "## 8. Summary and Conclusion\n",
    "\n",
    "Congratulations! You've successfully learned how to use the LangChain Anchor Browser integration. Here's what we covered:\n",
    "\n",
    "### ✅ What You've Accomplished:\n",
    "1. **Set up the environment** with proper API keys and dependencies\n",
    "2. **Used individual tools** for specific tasks (screenshots, content extraction, AI tasks)\n",
    "3. **Created intelligent agents** that can choose the right tool for any request\n",
    "4. **Built complex workflows** by chaining multiple tools together\n",
    "\n",
    "### 🚀 What You Can Do Now:\n",
    "- Automate web scraping and data extraction\n",
    "- Create intelligent web assistants\n",
    "- Build sophisticated web automation pipelines\n",
    "- Integrate web capabilities into your LangChain applications\n",
    "\n",
    "### 📚 Further Learning:\n",
    "- Experiment with different system prompts and agent configurations\n",
    "- Build custom tools and integrate them with Anchor Browser\n",
    "\n",
    "### 💡 Pro Tip:\n",
    "You can now run all these examples automatically using the `tutorial-demo.py` script, which demonstrates the complete workflow in a single execution!\n",
    "\n",
    "Happy building! 🎉"
   ]
  }
 ],
 "metadata": {
  "kernelspec": {
   "display_name": "Python 3 (ipykernel)",
   "language": "python",
   "name": "python3"
  },
  "language_info": {
   "codemirror_mode": {
    "name": "ipython",
    "version": 3
   },
   "file_extension": ".py",
   "mimetype": "text/x-python",
   "name": "python",
   "nbconvert_exporter": "python",
   "pygments_lexer": "ipython3",
   "version": "3.13.5"
  }
 },
 "nbformat": 4,
 "nbformat_minor": 4
}
